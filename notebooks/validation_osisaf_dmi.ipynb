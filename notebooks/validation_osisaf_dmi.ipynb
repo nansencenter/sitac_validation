{
 "cells": [
  {
   "cell_type": "code",
   "execution_count": 35,
   "metadata": {},
   "outputs": [],
   "source": [
    "from datetime import datetime\n",
    "\n",
    "from cartopy.crs import NorthPolarStereo\n",
    "import matplotlib.pyplot as plt\n",
    "from netCDF4 import Dataset\n",
    "import numpy as np\n",
    "from scipy.interpolate import RegularGridInterpolator\n",
    "\n",
    "from validate_on_nic_DMI import read_dmi_ice_chart, compute_sic_stats\n",
    "from validate_on_dmi_DMI import ValidationDMI_DMI\n",
    "from sitacval import compute_stats\n",
    "import sklearn.metrics as skm\n"
   ]
  },
  {
   "cell_type": "code",
   "execution_count": 27,
   "metadata": {},
   "outputs": [],
   "source": [
    "class ValidationOSISAF_DMI(ValidationDMI_DMI):\n",
    "    products = ['sic']\n",
    "    map_label_aut = 'DMI-auto'\n",
    "    map_label_man = 'OSI-SAF'\n",
    "    step = 1\n",
    "\n",
    "    def week_auto_files(self, end_date):\n",
    "        \"\"\"\n",
    "        Get the list of automatic files for the week ending at str_date.\n",
    "\n",
    "        Parameters:\n",
    "        -----------\n",
    "        end_date : str\n",
    "            Date of NIC shapefile (end of period)\n",
    "\n",
    "        Returns:\n",
    "        --------\n",
    "        aut_files : list\n",
    "            List of automatic files for the week ending at end_date.\n",
    "        \"\"\"\n",
    "        return [f'{self.dir_auto}/{end_date.strftime(self.dir_auto_format)}']\n",
    "\n",
    "    def get_aut_ice_chart(self, aut_files):\n",
    "        y_min, y_max, y_size = -5345000, 5845000,  1120\n",
    "        man_y = np.linspace(y_max, y_min, y_size)\n",
    "        x_min, x_max, x_size = -3845000, 3745000, 760\n",
    "        man_x = np.linspace(x_min, x_max, x_size)\n",
    "\n",
    "        _, sic_dmi, lnd_dmi, xc, yc = read_dmi_ice_chart(aut_files[0], self.step)\n",
    "\n",
    "        rgi = RegularGridInterpolator((yc, xc), sic_dmi.astype(float), method='nearest', bounds_error=False)\n",
    "        man_y_grd, man_x_grd = np.meshgrid(man_y, man_x, indexing='ij')\n",
    "        aut_sic_pro = rgi((man_y_grd, man_x_grd))\n",
    "\n",
    "        return {\n",
    "            'sic': aut_sic_pro,\n",
    "            'landmask': lnd_dmi,\n",
    "        }\n",
    "\n",
    "    def get_man_ice_chart(self, man_file):\n",
    "        with Dataset(man_file) as ds:\n",
    "            sic_map = ds['ice_conc'][0, :, :]\n",
    "        return {\n",
    "            'sic': sic_map,\n",
    "        }\n",
    "\n",
    "    def find_manual_file(self, date):\n",
    "        shapefile = f'{self.dir_man}/ice_conc_nh_polstere-100_amsr2_{date.strftime(\"%Y%m%d\")}1200.nc'\n",
    "        return shapefile\n"
   ]
  },
  {
   "cell_type": "code",
   "execution_count": 28,
   "metadata": {},
   "outputs": [],
   "source": [
    "%matplotlib inline\n",
    "args_dir_man = '/Data/sim/data/OSISAF_ice_conc_amsr'\n",
    "args_dir_aut = '/Data/sat/auxdata/ice_charts/dmi_asip_seaice_mosaic_arc_l3'\n",
    "args_dir_stats = 'osisaf_dmi'"
   ]
  },
  {
   "cell_type": "code",
   "execution_count": 29,
   "metadata": {},
   "outputs": [],
   "source": [
    "vn = ValidationOSISAF_DMI(args_dir_man, args_dir_aut, args_dir_stats, cores=1)\n",
    "vn.step = 1\n",
    "date = datetime(2021,1,1)\n",
    "\n",
    "#vn.process_date(date)\n",
    "#raise\n",
    "#man_file = '2021/01/ice_conc_overview_greenland_202101031200.nc'\n",
    "\n",
    "#aut_files = vn.week_auto_files(date)\n",
    "#aut_ice_chart = vn.get_aut_ice_chart(aut_files)\n",
    "#man_ice_chart = vn.get_man_ice_chart(man_file)"
   ]
  },
  {
   "cell_type": "code",
   "execution_count": 30,
   "metadata": {},
   "outputs": [],
   "source": [
    "man_file = vn.find_manual_file(date)\n",
    "aut_files = vn.week_auto_files(date)\n",
    "aut_ice_chart = vn.get_aut_ice_chart(aut_files)\n",
    "man_ice_chart = vn.get_man_ice_chart(man_file)\n",
    "diff, mask = vn.get_difference(man_ice_chart, aut_ice_chart)"
   ]
  },
  {
   "cell_type": "code",
   "execution_count": 36,
   "metadata": {},
   "outputs": [],
   "source": [
    "\n",
    "sic_stats = compute_sic_stats(man_ice_chart['sic'], aut_ice_chart['sic'], mask['sic'])"
   ]
  },
  {
   "cell_type": "code",
   "execution_count": null,
   "metadata": {},
   "outputs": [],
   "source": []
  }
 ],
 "metadata": {
  "kernelspec": {
   "display_name": "ice2",
   "language": "python",
   "name": "python3"
  },
  "language_info": {
   "codemirror_mode": {
    "name": "ipython",
    "version": 3
   },
   "file_extension": ".py",
   "mimetype": "text/x-python",
   "name": "python",
   "nbconvert_exporter": "python",
   "pygments_lexer": "ipython3",
   "version": "3.12.4"
  }
 },
 "nbformat": 4,
 "nbformat_minor": 2
}
