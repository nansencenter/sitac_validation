{
 "cells": [
  {
   "cell_type": "code",
   "execution_count": 1,
   "id": "839fc402",
   "metadata": {},
   "outputs": [],
   "source": [
    "from collections import defaultdict\n",
    "import glob\n",
    "from datetime import datetime, timedelta\n",
    "import os\n",
    "\n",
    "import matplotlib.pyplot as plt # type: ignore\n",
    "from matplotlib.colors import LogNorm # type: ignore\n",
    "import numpy as np # type: ignore\n",
    "import pandas as pd # type: ignore\n",
    "import seaborn # type: ignore"
   ]
  },
  {
   "cell_type": "code",
   "execution_count": 2,
   "id": "ded50529",
   "metadata": {},
   "outputs": [],
   "source": [
    "def collect_sod_stats(idir, name, *args):\n",
    "    frmt = '%Y%m%d.npz'\n",
    "    var_names = [f'{name.upper()} accuracy', f'{name.upper()} precision', f'{name.upper()} recall', f'{name.upper()} f1-score']\n",
    "    ice_var_names = ['precision', 'recall', 'fscore']\n",
    "\n",
    "    dates = []\n",
    "    sod_stats = defaultdict(list)\n",
    "    conf_matrs = []\n",
    "    sod_labels = {}\n",
    "\n",
    "    ifiles = sorted(glob.glob(f'{idir}/stats_{name}*npz'))\n",
    "    for ifile in ifiles:\n",
    "        d = dict(np.load(ifile, allow_pickle=True))\n",
    "        sod_labels = list(d['labels'])\n",
    "        if 'none' in d:\n",
    "            continue\n",
    "        dates.append(datetime.strptime(ifile.split('_')[-1], frmt))\n",
    "        for var_name in var_names:\n",
    "            sod_stats[var_name].append(d[var_name].item())\n",
    "        for ice_var_name in ice_var_names:\n",
    "            ice_values = d[ice_var_name]\n",
    "            for ice_name, ice_value in zip(sod_labels, ice_values):\n",
    "                var_name = f'{ice_name} | {ice_var_name}'\n",
    "                sod_stats[var_name].append(ice_value)\n",
    "        conf_matrs.append(d['matrix'])\n",
    "    if len(dates) == 0:\n",
    "        return None, None, None, None\n",
    "    conf_matrs = np.dstack([m for m in conf_matrs])\n",
    "    conf_mat = np.nansum(conf_matrs, axis=2).T\n",
    "    return dates, sod_stats, conf_mat, sod_labels\n",
    "\n",
    "def collect_sic_stats(idir, *args):\n",
    "    frmt = '%Y%m%d.npz'\n",
    "    metric_names = ['Pearson', 'Bias', 'RMSE', 'DRMSE']\n",
    "    var_names = []\n",
    "    for metric_name in metric_names:\n",
    "        for name1 in ['All', 'Avg']:\n",
    "            var_names.append(f'SIC {name1} {metric_name}')\n",
    "    dates = []\n",
    "    sic_stats = defaultdict(list)\n",
    "    ifiles = sorted(glob.glob(f'{idir}/stats_sic*npz'))\n",
    "    for ifile in ifiles:\n",
    "        d = dict(np.load(ifile, allow_pickle=True))\n",
    "        if 'none' in d:\n",
    "            continue\n",
    "        dates.append(datetime.strptime(ifile.split('_')[-1], frmt))\n",
    "        for var_name in var_names:\n",
    "            sic_stats[var_name].append(d[var_name].item())\n",
    "    return dates, sic_stats, None, None\n",
    "\n",
    "def plot_confusion_matrix(idir, conf_mat, sod_labels, name):\n",
    "    fig, axs = plt.subplots(1,1,figsize=(7,7))\n",
    "    plt.colorbar(axs.imshow(conf_mat, norm=LogNorm()), ax=axs, shrink=0.7)\n",
    "    axs.set_xticks(range(len(sod_labels)), sod_labels, rotation=90)\n",
    "    axs.set_yticks(range(len(sod_labels)), sod_labels)\n",
    "    axs.set_xlabel('Manual ice chart')\n",
    "    axs.set_ylabel('Auto ice chart')\n",
    "    plt.tight_layout()\n",
    "    plt.savefig(f'../figures/{os.path.basename(idir)}_confusion_matrix_{name}.png', dpi=150, bbox_inches='tight', pad_inches=0.1)\n",
    "    plt.close()\n",
    "\n",
    "def collect_joined_stats(collect_func, ref_names, *args):\n",
    "    dfs = []\n",
    "    dates = []\n",
    "    for i, ref_name in enumerate(ref_names):\n",
    "        idir = f'../dmi_{ref_name}'\n",
    "        sic_dates, sic_stats, _, _ = collect_func(idir, *args)\n",
    "        df = pd.DataFrame(sic_stats)\n",
    "        df['data_source'] = ref_name\n",
    "        dfs.append(df)\n",
    "        sic_dates = [sic_date + timedelta(hours=i) for sic_date in sic_dates]\n",
    "        dates.append(sic_dates)\n",
    "    dates =list(np.hstack(dates))\n",
    "    df = pd.concat(dfs)\n",
    "    df.index=dates\n",
    "    return df\n",
    "\n",
    "def joined_monthly_plots(df):\n",
    "    df['month'] = df.index.strftime('%b')\n",
    "    show_names = df.columns.drop(['month', 'data_source'])\n",
    "    for var_name in show_names:\n",
    "        filename = f'../figures/{var_name.replace(\" \", \"_\")}.png'\n",
    "        fig, axs = plt.subplots(1, 1, figsize=(10, 3))\n",
    "        seaborn.boxplot(x='month', y=var_name, hue='data_source', data=df, showfliers=False, width=0.5, )\n",
    "        plt.savefig(filename, dpi=100, bbox_inches='tight', pad_inches=0.1)\n",
    "        plt.close()"
   ]
  },
  {
   "cell_type": "code",
   "execution_count": 3,
   "id": "3fb08948",
   "metadata": {},
   "outputs": [],
   "source": [
    "for name in ['sod', 'flz']:\n",
    "    idirs  = ['../dmi_nic', '../dmi_dmi']\n",
    "    for idir in idirs:\n",
    "        sod_dates, sod_stats, conf_mat, sod_labels = collect_sod_stats(idir, name)\n",
    "        if sod_dates is not None:\n",
    "            plot_confusion_matrix(idir, conf_mat, sod_labels, name)"
   ]
  },
  {
   "cell_type": "code",
   "execution_count": 4,
   "id": "8debccb8",
   "metadata": {},
   "outputs": [],
   "source": [
    "df = collect_joined_stats(collect_sic_stats, ['nic', 'dmi', 'osisaf'])\n",
    "joined_monthly_plots(df)"
   ]
  },
  {
   "cell_type": "code",
   "execution_count": 5,
   "id": "baa05dd9",
   "metadata": {},
   "outputs": [],
   "source": [
    "df = collect_joined_stats(collect_sod_stats, ['nic', 'dmi'], 'sod')\n",
    "joined_monthly_plots(df)"
   ]
  },
  {
   "cell_type": "code",
   "execution_count": 6,
   "id": "cb5a7100",
   "metadata": {},
   "outputs": [],
   "source": [
    "df = collect_joined_stats(collect_sod_stats, ['dmi'], 'flz')\n",
    "joined_monthly_plots(df)"
   ]
  },
  {
   "cell_type": "code",
   "execution_count": null,
   "id": "f2f39138",
   "metadata": {},
   "outputs": [],
   "source": []
  }
 ],
 "metadata": {
  "kernelspec": {
   "display_name": "Python 3 (ipykernel)",
   "language": "python",
   "name": "python3"
  },
  "language_info": {
   "codemirror_mode": {
    "name": "ipython",
    "version": 3
   },
   "file_extension": ".py",
   "mimetype": "text/x-python",
   "name": "python",
   "nbconvert_exporter": "python",
   "pygments_lexer": "ipython3",
   "version": "3.12.4"
  }
 },
 "nbformat": 4,
 "nbformat_minor": 5
}
