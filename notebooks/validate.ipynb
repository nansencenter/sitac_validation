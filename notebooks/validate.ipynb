{
 "cells": [
  {
   "cell_type": "code",
   "execution_count": 6,
   "metadata": {},
   "outputs": [],
   "source": [
    "import datetime\n",
    "from argparse import Namespace\n"
   ]
  },
  {
   "cell_type": "code",
   "execution_count": 9,
   "metadata": {},
   "outputs": [
    {
     "data": {
      "text/plain": [
       "Namespace(product='DMI', reference='DMI', start='2021-01-01', end='2021-01-31', step=10, cores=5, start_date=datetime.date(2021, 1, 1), end_date=datetime.date(2021, 1, 31), aut_dir='/Data/sat/auxdata/ice_charts/dmi_asip_seaice_mosaic_arc_l3', ref_dir='/Data/sat/auxdata/ice_charts/cmems_obs-si_arc_physic_nrt_1km-grl_P1WT3D-m_202012')"
      ]
     },
     "execution_count": 9,
     "metadata": {},
     "output_type": "execute_result"
    }
   ],
   "source": [
    "args = Namespace(\n",
    "    product='DMI',\n",
    "    reference='DMI',\n",
    "    start='2021-01-01',\n",
    "    end='2021-01-31',\n",
    "    step=10,\n",
    "    cores=5,\n",
    "    start_date=datetime.date(2021, 1, 1),\n",
    "    end_date=datetime.date(2021, 1, 31),\n",
    "    aut_dir='/Data/sat/auxdata/ice_charts/dmi_asip_seaice_mosaic_arc_l3',\n",
    "    ref_dir='/Data/sat/auxdata/ice_charts/cmems_obs-si_arc_physic_nrt_1km-grl_P1WT3D-m_202012'\n",
    ")\n",
    "args"
   ]
  },
  {
   "cell_type": "code",
   "execution_count": null,
   "metadata": {},
   "outputs": [],
   "source": []
  }
 ],
 "metadata": {
  "kernelspec": {
   "display_name": "ice2",
   "language": "python",
   "name": "python3"
  },
  "language_info": {
   "codemirror_mode": {
    "name": "ipython",
    "version": 3
   },
   "file_extension": ".py",
   "mimetype": "text/x-python",
   "name": "python",
   "nbconvert_exporter": "python",
   "pygments_lexer": "ipython3",
   "version": "3.12.4"
  }
 },
 "nbformat": 4,
 "nbformat_minor": 2
}
