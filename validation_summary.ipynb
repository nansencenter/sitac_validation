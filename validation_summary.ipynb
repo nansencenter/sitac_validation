{
 "cells": [
  {
   "cell_type": "code",
   "execution_count": null,
   "id": "839fc402",
   "metadata": {},
   "outputs": [],
   "source": [
    "from collections import defaultdict\n",
    "import glob\n",
    "from datetime import datetime\n",
    "\n",
    "import matplotlib.pyplot as plt\n",
    "from matplotlib.colors import LogNorm\n",
    "import numpy as np\n",
    "\n",
    "import pandas as pd\n",
    "import seaborn\n"
   ]
  },
  {
   "cell_type": "code",
   "execution_count": null,
   "id": "4965d14c",
   "metadata": {},
   "outputs": [],
   "source": [
    "# example commands\n",
    "# python validate_on_nic_DMI.py 2021-01-01 2021-12-31 /Data/sat/auxdata/ice_charts/NIC /Data/sat/auxdata/ice_charts/dmi_asip_seaice_mosaic_arc_l3 ./nic_dmi\n",
    "# python validate_on_dmi_DMI.py 2021-01-01 2021-12-31 /Data/sat/auxdata/ice_charts/cmems_obs-si_arc_physic_nrt_1km-grl_P1WT3D-m_202012 /Data/sat/auxdata/ice_charts/dmi_asip_seaice_mosaic_arc_l3 ./dmi_dmi\n",
    "# python validate_on_nic_NERSC.py 2023-01-01 2023-03-31 /Data/sat/auxdata/ice_charts/NIC /Data/sat/auxdata/ice_charts/cmems_obs-si_arc_phy-icetype_nrt_L4-auto_P1D ./nic_nersc/\n"
   ]
  },
  {
   "cell_type": "code",
   "execution_count": null,
   "id": "ded50529",
   "metadata": {},
   "outputs": [],
   "source": [
    "#idir = './nic_nersc'\n",
    "idir = './nic_dmi'\n",
    "#idir = './dmi_dmi'\n",
    "\n",
    "frmt = '%Y%m%d.npz'\n",
    "var_names = ['accuracy', 'macro_precision', 'macro_recall', 'macro_f1_score']#, 'all_sic_pearsonr', 'avg_sic_pearsonr']\n",
    "ice_var_names = ['precision', 'recall', 'fscore', 'total_man', 'total_aut']\n",
    "\n",
    "values = defaultdict(list)\n",
    "dates = []\n",
    "confmatrs = []\n",
    "ice_names = {}\n",
    "\n",
    "ifiles = sorted(glob.glob(f'{idir}/*npz'))\n",
    "for ifile in ifiles:\n",
    "    d = dict(np.load(ifile, allow_pickle=True))\n",
    "    ice_names = list(d['labels'])\n",
    "    if 'none' in d:\n",
    "        continue\n",
    "    dates.append(datetime.strptime(ifile.split('_')[-1], frmt))\n",
    "    for var_name in var_names:\n",
    "        values[var_name].append(d[var_name].item())\n",
    "    for ice_var_name in ice_var_names:\n",
    "        ice_values = d[ice_var_name]\n",
    "        if len(ice_values) < 4:\n",
    "            ice_values = [np.nan, np.nan, np.nan, np.nan]\n",
    "        for ice_name, ice_value in zip(ice_names, ice_values):\n",
    "            var_name = f'{ice_name}_{ice_var_name}'\n",
    "            values[var_name].append(ice_value)\n",
    "    confmatrs.append(d['matrix'])\n"
   ]
  },
  {
   "cell_type": "code",
   "execution_count": null,
   "id": "ad4f9a76",
   "metadata": {},
   "outputs": [],
   "source": [
    "fig, axs = plt.subplots(1,1,figsize=(7,7))\n",
    "\n",
    "m = np.dstack([m for m in confmatrs])\n",
    "plt.colorbar(axs.imshow(np.nansum(m, axis=2).T, norm=LogNorm()), ax=axs, shrink=0.7)\n",
    "axs.set_xticks(range(len(ice_names)), ice_names, rotation=90)\n",
    "axs.set_yticks(range(len(ice_names)), ice_names)\n",
    "axs.set_xlabel('Manual ice chart')\n",
    "axs.set_ylabel('Auto ice chart')\n",
    "plt.tight_layout()\n",
    "plt.savefig(f'{idir}/confusion_matrix.png', dpi=150, bbox_inches='tight', pad_inches=0.1)\n",
    "plt.show()"
   ]
  },
  {
   "cell_type": "code",
   "execution_count": null,
   "id": "26cadeef",
   "metadata": {},
   "outputs": [],
   "source": [
    "df = pd.DataFrame(values, index=dates)\n",
    "df['month'] = df.index.strftime('%b')\n",
    "show_names = df.columns.drop(['month'])"
   ]
  },
  {
   "cell_type": "code",
   "execution_count": null,
   "id": "9ea8a533",
   "metadata": {
    "scrolled": false
   },
   "outputs": [],
   "source": [
    "for var_name in show_names:\n",
    "    try:\n",
    "        fig, ax = plt.subplots(1,1,figsize=(5,5))\n",
    "        seaborn.boxplot(x='month', y=var_name, data=df)\n",
    "        plt.savefig(f'{idir}/{var_name}.png', dpi=200, bbox_inches='tight', pad_inches=0.1)\n",
    "        plt.show()\n",
    "    except:\n",
    "        print('Failed to show ', var_name)\n"
   ]
  },
  {
   "cell_type": "code",
   "execution_count": null,
   "id": "126fad72",
   "metadata": {},
   "outputs": [],
   "source": []
  }
 ],
 "metadata": {
  "kernelspec": {
   "display_name": "Python 3 (ipykernel)",
   "language": "python",
   "name": "python3"
  },
  "language_info": {
   "codemirror_mode": {
    "name": "ipython",
    "version": 3
   },
   "file_extension": ".py",
   "mimetype": "text/x-python",
   "name": "python",
   "nbconvert_exporter": "python",
   "pygments_lexer": "ipython3",
   "version": "3.12.4"
  }
 },
 "nbformat": 4,
 "nbformat_minor": 5
}
